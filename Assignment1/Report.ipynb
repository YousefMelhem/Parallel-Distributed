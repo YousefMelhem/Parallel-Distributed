{
 "cells": [
  {
   "cell_type": "markdown",
   "metadata": {},
   "source": [
    "# Assignment 1- Matrix multiplaction optimaztion methods \n",
    "\n",
    "### Python\n",
    "\n",
    "The start warmup claculation was done by using 3 nesed lopps to calcluate the most basic run of matrix multiplaction the code for it is: \n"
   ]
  },
  {
   "cell_type": "markdown",
   "metadata": {},
   "source": [
    "def matrix_mult(A, B, C):\n",
    "\n",
    "    for i in range(n):\n",
    "\n",
    "        for j in range(n):\n",
    "\n",
    "            for k in range(n):\n",
    "\n",
    "                C[i][j] += A[i][k] * B[k][j]\n"
   ]
  },
  {
   "cell_type": "markdown",
   "metadata": {},
   "source": [
    "The avarge gflops i got is: \n",
    "$$ Gflops: 0.005718 \\newline\n",
    "Time: 5.9 s\\newline\n",
    "Matrix Size: 256x256 $$"
   ]
  },
  {
   "cell_type": "markdown",
   "metadata": {},
   "source": [
    "Then i was expremneting on siglethreding numpy matrix multiplaction, numpy matrix multiplaction do use OpenBlase, openblase is used for linear algebra for optimazing mathamticel opration. To limit the thread we had to run it `with threadpool_limits(limits=1):` this did limit the number of thread in use. "
   ]
  },
  {
   "cell_type": "markdown",
   "metadata": {},
   "source": [
    "i got this result: \n",
    "$$ avg: 116.74 \\space {Gflops}$$"
   ]
  },
  {
   "cell_type": "markdown",
   "metadata": {},
   "source": [
    "With python i was using numpy multi threding matrix multiplaction with did give likly around 300-400 gflops for the multiplaction. To be fare with my experment i did use all matrices with float 32 so the matrices `A`and `B` are create as the folwong:"
   ]
  },
  {
   "cell_type": "markdown",
   "metadata": {},
   "source": [
    " *Create matrices:*\n",
    "\n",
    "    A = np.random.rand(n, n).astype(np.float32)\n",
    "    B = np.random.rand(n, n).astype(np.float32)"
   ]
  },
  {
   "cell_type": "markdown",
   "metadata": {},
   "source": [
    "###"
   ]
  },
  {
   "cell_type": "markdown",
   "metadata": {},
   "source": [
    "### C++\n",
    "\n",
    "I did start with a simple matrix multiplaction that are using nested 3 loops for the calcultion: "
   ]
  },
  {
   "cell_type": "code",
   "execution_count": null,
   "metadata": {
    "vscode": {
     "languageId": "c"
    }
   },
   "outputs": [],
   "source": [
    "void matrix_multiply_basic(const std::vector<float>& A, \n",
    "    const std::vector<float>& B, \n",
    "    std::vector<float>& C, \n",
    "    int n) {\n",
    "for (int i = 0; i < n; i++) {\n",
    "for (int j = 0; j < n; j++) {\n",
    "float sum = 0.0f;\n",
    "for (int k = 0; k < n; k++) {\n",
    "sum += A[i * n + k] * B[k * n + j];\n",
    "}\n",
    "C[i * n + j] = sum;\n",
    "}\n",
    "}\n",
    "}"
   ]
  },
  {
   "cell_type": "markdown",
   "metadata": {},
   "source": [
    "In this implmentions it does just comopute $C[i,j]$ this is the normal matrix multiplaction where it is the dot product of row i of A and column j of B. The time complexity is $O(n^3)$. The preformance is very limited "
   ]
  },
  {
   "cell_type": "markdown",
   "metadata": {},
   "source": [
    "I got this result: "
   ]
  },
  {
   "cell_type": "markdown",
   "metadata": {},
   "source": []
  }
 ],
 "metadata": {
  "language_info": {
   "name": "python"
  }
 },
 "nbformat": 4,
 "nbformat_minor": 2
}
